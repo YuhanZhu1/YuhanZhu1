{
 "cells": [
  {
   "cell_type": "code",
   "execution_count": 7,
   "id": "7ffb0c13",
   "metadata": {},
   "outputs": [],
   "source": [
    "import seaborn as sns\n",
    "import numpy as np"
   ]
  },
  {
   "cell_type": "code",
   "execution_count": 8,
   "id": "e52a9596",
   "metadata": {},
   "outputs": [
    {
     "data": {
      "text/html": [
       "<div>\n",
       "<style scoped>\n",
       "    .dataframe tbody tr th:only-of-type {\n",
       "        vertical-align: middle;\n",
       "    }\n",
       "\n",
       "    .dataframe tbody tr th {\n",
       "        vertical-align: top;\n",
       "    }\n",
       "\n",
       "    .dataframe thead th {\n",
       "        text-align: right;\n",
       "    }\n",
       "</style>\n",
       "<table border=\"1\" class=\"dataframe\">\n",
       "  <thead>\n",
       "    <tr style=\"text-align: right;\">\n",
       "      <th></th>\n",
       "      <th>total_bill</th>\n",
       "      <th>tip</th>\n",
       "      <th>size</th>\n",
       "    </tr>\n",
       "  </thead>\n",
       "  <tbody>\n",
       "    <tr>\n",
       "      <th>count</th>\n",
       "      <td>244.000000</td>\n",
       "      <td>244.000000</td>\n",
       "      <td>244.000000</td>\n",
       "    </tr>\n",
       "    <tr>\n",
       "      <th>mean</th>\n",
       "      <td>19.785943</td>\n",
       "      <td>2.998279</td>\n",
       "      <td>2.569672</td>\n",
       "    </tr>\n",
       "    <tr>\n",
       "      <th>std</th>\n",
       "      <td>8.902412</td>\n",
       "      <td>1.383638</td>\n",
       "      <td>0.951100</td>\n",
       "    </tr>\n",
       "    <tr>\n",
       "      <th>min</th>\n",
       "      <td>3.070000</td>\n",
       "      <td>1.000000</td>\n",
       "      <td>1.000000</td>\n",
       "    </tr>\n",
       "    <tr>\n",
       "      <th>25%</th>\n",
       "      <td>13.347500</td>\n",
       "      <td>2.000000</td>\n",
       "      <td>2.000000</td>\n",
       "    </tr>\n",
       "    <tr>\n",
       "      <th>50%</th>\n",
       "      <td>17.795000</td>\n",
       "      <td>2.900000</td>\n",
       "      <td>2.000000</td>\n",
       "    </tr>\n",
       "    <tr>\n",
       "      <th>75%</th>\n",
       "      <td>24.127500</td>\n",
       "      <td>3.562500</td>\n",
       "      <td>3.000000</td>\n",
       "    </tr>\n",
       "    <tr>\n",
       "      <th>max</th>\n",
       "      <td>50.810000</td>\n",
       "      <td>10.000000</td>\n",
       "      <td>6.000000</td>\n",
       "    </tr>\n",
       "  </tbody>\n",
       "</table>\n",
       "</div>"
      ],
      "text/plain": [
       "       total_bill         tip        size\n",
       "count  244.000000  244.000000  244.000000\n",
       "mean    19.785943    2.998279    2.569672\n",
       "std      8.902412    1.383638    0.951100\n",
       "min      3.070000    1.000000    1.000000\n",
       "25%     13.347500    2.000000    2.000000\n",
       "50%     17.795000    2.900000    2.000000\n",
       "75%     24.127500    3.562500    3.000000\n",
       "max     50.810000   10.000000    6.000000"
      ]
     },
     "execution_count": 8,
     "metadata": {},
     "output_type": "execute_result"
    }
   ],
   "source": [
    "df_tips = sns.load_dataset(\"tips\")\n",
    "df_tips.dropna()\n",
    "df_tips.describe()"
   ]
  },
  {
   "cell_type": "code",
   "execution_count": 9,
   "id": "544baaf0",
   "metadata": {},
   "outputs": [
    {
     "data": {
      "text/plain": [
       "1.3807999538298958"
      ]
     },
     "execution_count": 9,
     "metadata": {},
     "output_type": "execute_result"
    }
   ],
   "source": [
    "np.std(df_tips[\"tip\"])"
   ]
  },
  {
   "cell_type": "code",
   "execution_count": 13,
   "id": "b05ba636",
   "metadata": {},
   "outputs": [
    {
     "data": {
      "text/plain": [
       "False"
      ]
     },
     "execution_count": 13,
     "metadata": {},
     "output_type": "execute_result"
    }
   ],
   "source": [
    "df_tips.describe()[\"tip\"][2] == np.std(df_tips[\"tip\"])"
   ]
  },
  {
   "cell_type": "code",
   "execution_count": 15,
   "id": "3f466de3",
   "metadata": {},
   "outputs": [
    {
     "data": {
      "text/html": [
       "<div>\n",
       "<style scoped>\n",
       "    .dataframe tbody tr th:only-of-type {\n",
       "        vertical-align: middle;\n",
       "    }\n",
       "\n",
       "    .dataframe tbody tr th {\n",
       "        vertical-align: top;\n",
       "    }\n",
       "\n",
       "    .dataframe thead th {\n",
       "        text-align: right;\n",
       "    }\n",
       "</style>\n",
       "<table border=\"1\" class=\"dataframe\">\n",
       "  <thead>\n",
       "    <tr style=\"text-align: right;\">\n",
       "      <th></th>\n",
       "      <th>Year</th>\n",
       "      <th>Spending_USD</th>\n",
       "      <th>Life_Expectancy</th>\n",
       "    </tr>\n",
       "  </thead>\n",
       "  <tbody>\n",
       "    <tr>\n",
       "      <th>count</th>\n",
       "      <td>275.00000</td>\n",
       "      <td>275.000000</td>\n",
       "      <td>275.000000</td>\n",
       "    </tr>\n",
       "    <tr>\n",
       "      <th>mean</th>\n",
       "      <td>1997.08000</td>\n",
       "      <td>2806.041796</td>\n",
       "      <td>77.920364</td>\n",
       "    </tr>\n",
       "    <tr>\n",
       "      <th>std</th>\n",
       "      <td>14.22887</td>\n",
       "      <td>2208.370191</td>\n",
       "      <td>3.275248</td>\n",
       "    </tr>\n",
       "    <tr>\n",
       "      <th>min</th>\n",
       "      <td>1970.00000</td>\n",
       "      <td>123.993000</td>\n",
       "      <td>70.600000</td>\n",
       "    </tr>\n",
       "    <tr>\n",
       "      <th>25%</th>\n",
       "      <td>1985.50000</td>\n",
       "      <td>1040.414000</td>\n",
       "      <td>75.550000</td>\n",
       "    </tr>\n",
       "    <tr>\n",
       "      <th>50%</th>\n",
       "      <td>1998.00000</td>\n",
       "      <td>2303.680000</td>\n",
       "      <td>78.100000</td>\n",
       "    </tr>\n",
       "    <tr>\n",
       "      <th>75%</th>\n",
       "      <td>2009.00000</td>\n",
       "      <td>4060.330500</td>\n",
       "      <td>80.600000</td>\n",
       "    </tr>\n",
       "    <tr>\n",
       "      <th>max</th>\n",
       "      <td>2021.00000</td>\n",
       "      <td>11859.179000</td>\n",
       "      <td>84.700000</td>\n",
       "    </tr>\n",
       "  </tbody>\n",
       "</table>\n",
       "</div>"
      ],
      "text/plain": [
       "             Year  Spending_USD  Life_Expectancy\n",
       "count   275.00000    275.000000       275.000000\n",
       "mean   1997.08000   2806.041796        77.920364\n",
       "std      14.22887   2208.370191         3.275248\n",
       "min    1970.00000    123.993000        70.600000\n",
       "25%    1985.50000   1040.414000        75.550000\n",
       "50%    1998.00000   2303.680000        78.100000\n",
       "75%    2009.00000   4060.330500        80.600000\n",
       "max    2021.00000  11859.179000        84.700000"
      ]
     },
     "execution_count": 15,
     "metadata": {},
     "output_type": "execute_result"
    }
   ],
   "source": [
    "#testing another dataset\n",
    "df_lifexp = sns.load_dataset(\"healthexp\")\n",
    "df_lifexp.dropna()\n",
    "df_lifexp.describe()"
   ]
  },
  {
   "cell_type": "code",
   "execution_count": 17,
   "id": "30249737",
   "metadata": {},
   "outputs": [],
   "source": [
    "Spending_std = np.std(df_lifexp[\"Spending_USD\"])\n",
    "Lifeexp_std = np.std(df_lifexp[\"Life_Expectancy\"])"
   ]
  },
  {
   "cell_type": "code",
   "execution_count": 18,
   "id": "431c84bb",
   "metadata": {},
   "outputs": [
    {
     "data": {
      "text/plain": [
       "False"
      ]
     },
     "execution_count": 18,
     "metadata": {},
     "output_type": "execute_result"
    }
   ],
   "source": [
    "Spending_std == df_lifexp.describe()[\"Spending_USD\"][2]"
   ]
  },
  {
   "cell_type": "code",
   "execution_count": 19,
   "id": "0588c148",
   "metadata": {},
   "outputs": [
    {
     "data": {
      "text/plain": [
       "False"
      ]
     },
     "execution_count": 19,
     "metadata": {},
     "output_type": "execute_result"
    }
   ],
   "source": [
    "Lifeexp_std == df_lifexp.describe()[\"Life_Expectancy\"][2]"
   ]
  },
  {
   "cell_type": "code",
   "execution_count": 20,
   "id": "9348c6c7",
   "metadata": {},
   "outputs": [
    {
     "name": "stdout",
     "output_type": "stream",
     "text": [
      "2204.351315381648 3.269287363901894\n"
     ]
    }
   ],
   "source": [
    "print(Spending_std,Lifeexp_std)"
   ]
  },
  {
   "cell_type": "markdown",
   "id": "f046346c",
   "metadata": {},
   "source": [
    "**Clearly std from np.std is different from the describe(), and seems like np.std returns a smaller value than describe()**"
   ]
  },
  {
   "cell_type": "code",
   "execution_count": 21,
   "id": "94fbb195",
   "metadata": {},
   "outputs": [
    {
     "data": {
      "text/plain": [
       "0      70.6\n",
       "1      72.2\n",
       "2      71.9\n",
       "3      72.0\n",
       "4      70.9\n",
       "       ... \n",
       "270    82.3\n",
       "271    80.4\n",
       "272    84.7\n",
       "273    77.0\n",
       "274    80.9\n",
       "Name: Life_Expectancy, Length: 275, dtype: float64"
      ]
     },
     "execution_count": 21,
     "metadata": {},
     "output_type": "execute_result"
    }
   ],
   "source": [
    "data = df_lifexp[\"Life_Expectancy\"]\n",
    "data"
   ]
  },
  {
   "cell_type": "code",
   "execution_count": 24,
   "id": "c01fde5c",
   "metadata": {},
   "outputs": [],
   "source": [
    "import math\n",
    "\n",
    "def variance(data, ddof=0):\n",
    "    n = len(data)\n",
    "    mean = sum(data) / n\n",
    "    return sum((x - mean) ** 2 for x in data) / (n - ddof)\n",
    "# population standard deviation\n",
    "\n",
    "def stdev(data):\n",
    "    var = variance(data)\n",
    "    std_dev = math.sqrt(var)\n",
    "    return std_dev"
   ]
  },
  {
   "cell_type": "code",
   "execution_count": 25,
   "id": "b58c9948",
   "metadata": {},
   "outputs": [
    {
     "data": {
      "text/plain": [
       "3.269287363901894"
      ]
     },
     "execution_count": 25,
     "metadata": {},
     "output_type": "execute_result"
    }
   ],
   "source": [
    "stdev(data)"
   ]
  },
  {
   "cell_type": "code",
   "execution_count": 26,
   "id": "93498cd1",
   "metadata": {},
   "outputs": [
    {
     "data": {
      "text/plain": [
       "3.275247783369753"
      ]
     },
     "execution_count": 26,
     "metadata": {},
     "output_type": "execute_result"
    }
   ],
   "source": [
    "import statistics\n",
    "statistics.stdev(data)"
   ]
  },
  {
   "cell_type": "code",
   "execution_count": 27,
   "id": "86fba042",
   "metadata": {},
   "outputs": [
    {
     "data": {
      "text/plain": [
       "3.269287363901894"
      ]
     },
     "execution_count": 27,
     "metadata": {},
     "output_type": "execute_result"
    }
   ],
   "source": [
    "statistics.pstdev(data)"
   ]
  },
  {
   "cell_type": "markdown",
   "id": "963b6ae9",
   "metadata": {},
   "source": [
    "## **conclusion: np.std calculate the population standard deviation describe() calculate the sample standard deviation**"
   ]
  },
  {
   "cell_type": "markdown",
   "id": "1d014da4",
   "metadata": {},
   "source": [
    "**Question: what's the difference between population stdev and Sample stdev?**"
   ]
  },
  {
   "cell_type": "markdown",
   "id": "2dac2dd0",
   "metadata": {},
   "source": [
    "The larger the value of n is, the closer that the population and sample standard deviations will be.\n",
    "\"A sample standard deviation is a statistic. This means that it is calculated from only some of the individuals in a population. Since the sample standard deviation depends upon the sample, it has greater variability. Thus the standard deviation of the sample is greater than that of the population.\" https://www.thoughtco.com/population-vs-sample-standard-deviations-3126372"
   ]
  },
  {
   "cell_type": "markdown",
   "id": "057277a1",
   "metadata": {},
   "source": [
    "**Question: Then why do we use sample standard deviation?**"
   ]
  },
  {
   "cell_type": "markdown",
   "id": "e0867180",
   "metadata": {},
   "source": [
    "https://statistics.laerd.com/statistical-guides/measures-of-spread-standard-deviation.php"
   ]
  }
 ],
 "metadata": {
  "kernelspec": {
   "display_name": "Python 3 (ipykernel)",
   "language": "python",
   "name": "python3"
  },
  "language_info": {
   "codemirror_mode": {
    "name": "ipython",
    "version": 3
   },
   "file_extension": ".py",
   "mimetype": "text/x-python",
   "name": "python",
   "nbconvert_exporter": "python",
   "pygments_lexer": "ipython3",
   "version": "3.9.12"
  }
 },
 "nbformat": 4,
 "nbformat_minor": 5
}
